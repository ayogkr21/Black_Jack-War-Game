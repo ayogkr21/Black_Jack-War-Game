{
  "nbformat": 4,
  "nbformat_minor": 0,
  "metadata": {
    "colab": {
      "name": "Black_jack.ipynb",
      "provenance": [],
      "authorship_tag": "ABX9TyMyvyqqNKb3exkEOXzkKCg2",
      "include_colab_link": true
    },
    "kernelspec": {
      "name": "python3",
      "display_name": "Python 3"
    },
    "language_info": {
      "name": "python"
    }
  },
  "cells": [
    {
      "cell_type": "markdown",
      "metadata": {
        "id": "view-in-github",
        "colab_type": "text"
      },
      "source": [
        "<a href=\"https://colab.research.google.com/github/ayogkr21/Black_Jack-War-Game/blob/main/Black_jack.ipynb\" target=\"_parent\"><img src=\"https://colab.research.google.com/assets/colab-badge.svg\" alt=\"Open In Colab\"/></a>"
      ]
    },
    {
      "cell_type": "markdown",
      "source": [
        "## Black Jack Game"
      ],
      "metadata": {
        "id": "Pi7DH92Jdm0N"
      }
    },
    {
      "cell_type": "markdown",
      "source": [
        "Structure of Deck input"
      ],
      "metadata": {
        "id": "w3DSlFQVds5t"
      }
    },
    {
      "cell_type": "code",
      "execution_count": 2,
      "metadata": {
        "id": "dIqKaRBPcUBb"
      },
      "outputs": [],
      "source": [
        "import random  #to shuffel The card\n",
        "\n",
        "suits=(\"Spades\",\"Clubs\",\"Diamonds\",\"Hearts\")\n",
        "ranks=(\"Two\",\"Three\",\"Four\",\"Five\",\"Six\",\"Seven\",\"Eight\",\"Nine\",\"Ten\",'Jack',\"Queen\",\"King\",\"Ace\")\n",
        "values={\"Two\":2, \"Three\":3, \"Four\":4, \"Five\":5, \"Six\":6, \"Seven\":7, \"Eight\":8,\"Nine\":9, \"Ten\":10, \"Jack\":11, \"Queen\":12, \"King\":13, \"Ace\":14}\n"
      ]
    },
    {
      "cell_type": "markdown",
      "source": [
        "Class of Cards"
      ],
      "metadata": {
        "id": "gLgk2tryeE4n"
      }
    },
    {
      "cell_type": "code",
      "source": [
        "class Card():\n",
        "    def __init__(self,suit,rank):\n",
        "        self.suit=suit\n",
        "        self.rank=rank\n",
        "        \n",
        "    def __str__(self):\n",
        "        return self.rank + ' of ' + self.suit"
      ],
      "metadata": {
        "id": "7GsLeQ0TeAc3"
      },
      "execution_count": 3,
      "outputs": []
    },
    {
      "cell_type": "markdown",
      "source": [
        "Deck Class to arrange 52 Cards"
      ],
      "metadata": {
        "id": "tQrK3eu2eNqV"
      }
    },
    {
      "cell_type": "code",
      "source": [
        "class Deck:\n",
        "    def __init__(self):\n",
        "        self.deck=[]\n",
        "        \n",
        "        for suit in suits:\n",
        "            for rank in ranks:\n",
        "                \n",
        "                self.deck.append(Card(suit,rank))\n",
        "    def __str__(self):\n",
        "        deck_comp = ''\n",
        "        for card in self.deck:\n",
        "            deck_comp+= '\\n'+card.__str__()\n",
        "        return 'The deck has:' + deck_comp\n",
        "    def shuffle(self):\n",
        "        random.shuffle(self.deck)\n",
        "    \n",
        "    def deal(self):\n",
        "        single_card = self.deck.pop()\n",
        "        return single_card"
      ],
      "metadata": {
        "id": "9MSCbg5meKZ4"
      },
      "execution_count": 4,
      "outputs": []
    },
    {
      "cell_type": "markdown",
      "source": [
        "Test case"
      ],
      "metadata": {
        "id": "TVUxxcPyezbG"
      }
    },
    {
      "cell_type": "code",
      "source": [
        "test_deck = Deck()\n",
        "print(test_deck)"
      ],
      "metadata": {
        "colab": {
          "base_uri": "https://localhost:8080/"
        },
        "id": "67O3QoPxeRuv",
        "outputId": "a321a5ce-59e3-439e-eec9-493d028386ed"
      },
      "execution_count": 5,
      "outputs": [
        {
          "output_type": "stream",
          "name": "stdout",
          "text": [
            "The deck has:\n",
            "Two of Spades\n",
            "Three of Spades\n",
            "Four of Spades\n",
            "Five of Spades\n",
            "Six of Spades\n",
            "Seven of Spades\n",
            "Eight of Spades\n",
            "Nine of Spades\n",
            "Ten of Spades\n",
            "Jack of Spades\n",
            "Queen of Spades\n",
            "King of Spades\n",
            "Ace of Spades\n",
            "Two of Clubs\n",
            "Three of Clubs\n",
            "Four of Clubs\n",
            "Five of Clubs\n",
            "Six of Clubs\n",
            "Seven of Clubs\n",
            "Eight of Clubs\n",
            "Nine of Clubs\n",
            "Ten of Clubs\n",
            "Jack of Clubs\n",
            "Queen of Clubs\n",
            "King of Clubs\n",
            "Ace of Clubs\n",
            "Two of Diamonds\n",
            "Three of Diamonds\n",
            "Four of Diamonds\n",
            "Five of Diamonds\n",
            "Six of Diamonds\n",
            "Seven of Diamonds\n",
            "Eight of Diamonds\n",
            "Nine of Diamonds\n",
            "Ten of Diamonds\n",
            "Jack of Diamonds\n",
            "Queen of Diamonds\n",
            "King of Diamonds\n",
            "Ace of Diamonds\n",
            "Two of Hearts\n",
            "Three of Hearts\n",
            "Four of Hearts\n",
            "Five of Hearts\n",
            "Six of Hearts\n",
            "Seven of Hearts\n",
            "Eight of Hearts\n",
            "Nine of Hearts\n",
            "Ten of Hearts\n",
            "Jack of Hearts\n",
            "Queen of Hearts\n",
            "King of Hearts\n",
            "Ace of Hearts\n"
          ]
        }
      ]
    },
    {
      "cell_type": "markdown",
      "source": [
        "Create a Hand Class"
      ],
      "metadata": {
        "id": "KpboLmo8fODN"
      }
    },
    {
      "cell_type": "code",
      "source": [
        "class Hand:\n",
        "    def __init__(self):\n",
        "        self.cards = []\n",
        "        self.value=0\n",
        "        self.aces=0\n",
        "    def add_card(self,card):\n",
        "        self.cards.append(card)\n",
        "        self.value += values[card.rank]\n",
        "        if card.rank==\"Ace\":\n",
        "            self.aces+=1\n",
        "            \n",
        "    def adjust_for_ace(self):\n",
        "        while self.value >21 and self.aces:\n",
        "            self.value-=10\n",
        "            self.aces-=1"
      ],
      "metadata": {
        "id": "T0DAsqxoe2Pd"
      },
      "execution_count": 13,
      "outputs": []
    },
    {
      "cell_type": "markdown",
      "source": [
        "Test Case"
      ],
      "metadata": {
        "id": "BTw5zvGqfA9z"
      }
    },
    {
      "cell_type": "code",
      "source": [
        "test_deck = Deck()\n",
        "test_deck.shuffle()\n",
        "test_player = Hand()\n",
        "test_player.add_card(test_deck.deal())\n",
        "test_player.add_card(test_deck.deal())\n",
        "test_player.value"
      ],
      "metadata": {
        "colab": {
          "base_uri": "https://localhost:8080/"
        },
        "id": "7O5cuJYze6Tv",
        "outputId": "e9062753-e53a-44b5-d202-711899fb0706"
      },
      "execution_count": 14,
      "outputs": [
        {
          "output_type": "execute_result",
          "data": {
            "text/plain": [
              "18"
            ]
          },
          "metadata": {},
          "execution_count": 14
        }
      ]
    },
    {
      "cell_type": "markdown",
      "source": [
        "Creating Chip Class"
      ],
      "metadata": {
        "id": "XwGioyY5foFU"
      }
    },
    {
      "cell_type": "code",
      "source": [
        "class Chips:\n",
        "    def __init__(self):\n",
        "        self.total=100\n",
        "        self.bet=0\n",
        "    def win_bet(self):\n",
        "        self.total+=self.bet\n",
        "        \n",
        "    def lose_bet(self):\n",
        "        self.total-=self.bet"
      ],
      "metadata": {
        "id": "SavE0UyWe_PW"
      },
      "execution_count": 15,
      "outputs": []
    },
    {
      "cell_type": "markdown",
      "source": [
        "Function for taking bets"
      ],
      "metadata": {
        "id": "Ufk082J9f6PN"
      }
    },
    {
      "cell_type": "code",
      "source": [
        "def take_bet(chips):\n",
        "    while True:\n",
        "        try:\n",
        "            chips.bet=int(input(\"How would you like to Bet\"))\n",
        "        except:\n",
        "            print(\"Sorry! Enter the Integer Value\")\n",
        "        else:\n",
        "            if chips.bet>chips.total:\n",
        "                print(\"Sorry, your bet can't exceed\",chips.total)\n",
        "            else:\n",
        "                break"
      ],
      "metadata": {
        "id": "wCYmyrI8fGAD"
      },
      "execution_count": 16,
      "outputs": []
    },
    {
      "cell_type": "markdown",
      "source": [
        "Function for taking hits"
      ],
      "metadata": {
        "id": "8WNxJD1YgFWm"
      }
    },
    {
      "cell_type": "code",
      "source": [
        "def hit(deck,hand):\n",
        "    \n",
        "    hand.add_card(deck.deal())\n",
        "    hand.adjust_for_ace()"
      ],
      "metadata": {
        "id": "Y-X7d68Zf_CR"
      },
      "execution_count": 17,
      "outputs": []
    },
    {
      "cell_type": "markdown",
      "source": [
        "Function prompting the Player to Hit or Stand"
      ],
      "metadata": {
        "id": "Pf-EhCdGgL0e"
      }
    },
    {
      "cell_type": "code",
      "source": [
        "playing=True\n",
        "def hit_or_stand(deck,hand):\n",
        "    global playing\n",
        "    \n",
        "    while True:\n",
        "        z=input(\"press 'H' for Hit and press 'S' for Stand\")\n",
        "        \n",
        "        if z[0]==\"H\":\n",
        "            hit(deck,hand)\n",
        "            \n",
        "        elif z[0]==\"S\":\n",
        "            print(\"player stand and its time to dealr's turn\")\n",
        "            playing=False\n",
        "            \n",
        "        else:\n",
        "            print(\"Sorry you entered wrong answer please enter H or S\")\n",
        "            continue\n",
        "        break\n",
        "        "
      ],
      "metadata": {
        "id": "QblXc5d_gJYJ"
      },
      "execution_count": 18,
      "outputs": []
    },
    {
      "cell_type": "markdown",
      "source": [
        "Functions to display cards"
      ],
      "metadata": {
        "id": "fm6sVXPHgXZz"
      }
    },
    {
      "cell_type": "code",
      "source": [
        "def show_some(player,dealer):\n",
        "    print(\"\\nDealer's Hand:\")\n",
        "    print(\" <card hidden>\")\n",
        "    print('',dealer.cards[1])  \n",
        "    print(\"\\nPlayer's Hand:\", *player.cards, sep='\\n ')\n",
        "    \n",
        "def show_all(player,dealer):\n",
        "    print(\"\\nDealer's Hand:\", *dealer.cards, sep='\\n ')\n",
        "    print(\"Dealer's Hand =\",dealer.value)\n",
        "    print(\"\\nPlayer's Hand:\", *player.cards, sep='\\n ')\n",
        "    print(\"Player's Hand =\",player.value)"
      ],
      "metadata": {
        "id": "wOdLoZ4CgQvA"
      },
      "execution_count": 19,
      "outputs": []
    },
    {
      "cell_type": "markdown",
      "source": [
        "Functions to Handle end of game scenarios"
      ],
      "metadata": {
        "id": "CB9MTzfXgf1x"
      }
    },
    {
      "cell_type": "code",
      "source": [
        "def player_busts(player,dealer,chips):\n",
        "    print(\"Player busts!\")\n",
        "    chips.lose_bet()\n",
        "\n",
        "def player_wins(player,dealer,chips):\n",
        "    print(\"Player wins!\")\n",
        "    chips.win_bet()\n",
        "\n",
        "def dealer_busts(player,dealer,chips):\n",
        "    print(\"Dealer busts!\")\n",
        "    chips.win_bet()\n",
        "    \n",
        "def dealer_wins(player,dealer,chips):\n",
        "    print(\"Dealer wins!\")\n",
        "    chips.lose_bet()\n",
        "    \n",
        "def push(player,dealer):\n",
        "    print(\"Dealer and Player tie! It's a push.\")"
      ],
      "metadata": {
        "id": "lUdZi_scgcje"
      },
      "execution_count": 20,
      "outputs": []
    },
    {
      "cell_type": "markdown",
      "source": [
        "## Now on to the game!!"
      ],
      "metadata": {
        "id": "IHRHlc36gruD"
      }
    },
    {
      "cell_type": "code",
      "source": [
        "while True:\n",
        "    # Print an opening statement\n",
        "    print('Welcome to BlackJack! Get as close to 21 as you can without going over!\\n\\\n",
        "    Dealer hits until she reaches 17. Aces count as 1 or 11.')\n",
        "    \n",
        "    # Create & shuffle the deck, deal two cards to each player\n",
        "    deck = Deck()\n",
        "    deck.shuffle()\n",
        "    \n",
        "    player_hand = Hand()\n",
        "    player_hand.add_card(deck.deal())\n",
        "    player_hand.add_card(deck.deal())\n",
        "    \n",
        "    dealer_hand = Hand()\n",
        "    dealer_hand.add_card(deck.deal())\n",
        "    dealer_hand.add_card(deck.deal())\n",
        "            \n",
        "    # Set up the Player's chips\n",
        "    player_chips = Chips()  # remember the default value is 100    \n",
        "    \n",
        "    # Prompt the Player for their bet\n",
        "    take_bet(player_chips)\n",
        "    \n",
        "    # Show cards (but keep one dealer card hidden)\n",
        "    show_some(player_hand,dealer_hand)\n",
        "    \n",
        "    while playing:  # recall this variable from our hit_or_stand function\n",
        "        \n",
        "        # Prompt for Player to Hit or Stand\n",
        "        hit_or_stand(deck,player_hand) \n",
        "        \n",
        "        # Show cards (but keep one dealer card hidden)\n",
        "        show_some(player_hand,dealer_hand)  \n",
        "        \n",
        "        # If player's hand exceeds 21, run player_busts() and break out of loop\n",
        "        if player_hand.value > 21:\n",
        "            player_busts(player_hand,dealer_hand,player_chips)\n",
        "            break        \n",
        "\n",
        "\n",
        "    # If Player hasn't busted, play Dealer's hand until Dealer reaches 17 \n",
        "    if player_hand.value <= 21:\n",
        "        \n",
        "        while dealer_hand.value < 17:\n",
        "            hit(deck,dealer_hand)    \n",
        "    \n",
        "        # Show all cards\n",
        "        show_all(player_hand,dealer_hand)\n",
        "        \n",
        "        # Run different winning scenarios\n",
        "        if dealer_hand.value > 21:\n",
        "            dealer_busts(player_hand,dealer_hand,player_chips)\n",
        "\n",
        "        elif dealer_hand.value > player_hand.value:\n",
        "            dealer_wins(player_hand,dealer_hand,player_chips)\n",
        "\n",
        "        elif dealer_hand.value < player_hand.value:\n",
        "            player_wins(player_hand,dealer_hand,player_chips)\n",
        "\n",
        "        else:\n",
        "            push(player_hand,dealer_hand)        \n",
        "    \n",
        "    # Inform Player of their chips total \n",
        "    print(\"\\nPlayer's winnings stand at\",player_chips.total)\n",
        "    \n",
        "    # Ask to play again\n",
        "    new_game = input(\"Would you like to play another hand? Enter 'y' or 'n' \")\n",
        "    \n",
        "    if new_game[0].lower()=='y':\n",
        "        playing=True\n",
        "        continue\n",
        "    else:\n",
        "        print(\"Thanks for playing!\")\n",
        "        break"
      ],
      "metadata": {
        "colab": {
          "base_uri": "https://localhost:8080/"
        },
        "id": "bcBAxWwCgm7s",
        "outputId": "38889060-2082-460b-9f0c-8a003452c083"
      },
      "execution_count": 23,
      "outputs": [
        {
          "output_type": "stream",
          "name": "stdout",
          "text": [
            "Welcome to BlackJack! Get as close to 21 as you can without going over!\n",
            "    Dealer hits until she reaches 17. Aces count as 1 or 11.\n",
            "How would you like to Bet1\n",
            "\n",
            "Dealer's Hand:\n",
            " <card hidden>\n",
            " Six of Hearts\n",
            "\n",
            "Player's Hand:\n",
            " Four of Spades\n",
            " Queen of Spades\n",
            "press 'H' for Hit and press 'S' for StandH\n",
            "\n",
            "Dealer's Hand:\n",
            " <card hidden>\n",
            " Six of Hearts\n",
            "\n",
            "Player's Hand:\n",
            " Four of Spades\n",
            " Queen of Spades\n",
            " Two of Spades\n",
            "press 'H' for Hit and press 'S' for StandS\n",
            "player stand and its time to dealr's turn\n",
            "\n",
            "Dealer's Hand:\n",
            " <card hidden>\n",
            " Six of Hearts\n",
            "\n",
            "Player's Hand:\n",
            " Four of Spades\n",
            " Queen of Spades\n",
            " Two of Spades\n",
            "\n",
            "Dealer's Hand:\n",
            " Ten of Clubs\n",
            " Six of Hearts\n",
            " Two of Hearts\n",
            "Dealer's Hand = 18\n",
            "\n",
            "Player's Hand:\n",
            " Four of Spades\n",
            " Queen of Spades\n",
            " Two of Spades\n",
            "Player's Hand = 18\n",
            "Dealer and Player tie! It's a push.\n",
            "\n",
            "Player's winnings stand at 100\n",
            "Would you like to play another hand? Enter 'y' or 'n' y\n",
            "Welcome to BlackJack! Get as close to 21 as you can without going over!\n",
            "    Dealer hits until she reaches 17. Aces count as 1 or 11.\n",
            "How would you like to Bet1\n",
            "\n",
            "Dealer's Hand:\n",
            " <card hidden>\n",
            " Six of Spades\n",
            "\n",
            "Player's Hand:\n",
            " Six of Hearts\n",
            " Nine of Diamonds\n",
            "press 'H' for Hit and press 'S' for StandS\n",
            "player stand and its time to dealr's turn\n",
            "\n",
            "Dealer's Hand:\n",
            " <card hidden>\n",
            " Six of Spades\n",
            "\n",
            "Player's Hand:\n",
            " Six of Hearts\n",
            " Nine of Diamonds\n",
            "\n",
            "Dealer's Hand:\n",
            " Seven of Spades\n",
            " Six of Spades\n",
            " Three of Diamonds\n",
            " Three of Clubs\n",
            "Dealer's Hand = 19\n",
            "\n",
            "Player's Hand:\n",
            " Six of Hearts\n",
            " Nine of Diamonds\n",
            "Player's Hand = 15\n",
            "Dealer wins!\n",
            "\n",
            "Player's winnings stand at 99\n",
            "Would you like to play another hand? Enter 'y' or 'n' n\n",
            "Thanks for playing!\n"
          ]
        }
      ]
    },
    {
      "cell_type": "code",
      "source": [
        ""
      ],
      "metadata": {
        "id": "g6MV0XcrgxmC"
      },
      "execution_count": null,
      "outputs": []
    }
  ]
}